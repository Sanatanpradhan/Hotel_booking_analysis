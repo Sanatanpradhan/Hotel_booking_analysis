{
  "cells": [
    {
      "cell_type": "markdown",
      "metadata": {
        "id": "view-in-github",
        "colab_type": "text"
      },
      "source": [
        "<a href=\"https://colab.research.google.com/github/Sanatanpradhan/Hotel_booking_analysis/blob/main/Hotel_Booking_Analysis.ipynb\" target=\"_parent\"><img src=\"https://colab.research.google.com/assets/colab-badge.svg\" alt=\"Open In Colab\"/></a>"
      ]
    },
    {
      "cell_type": "markdown",
      "metadata": {
        "id": "vncDsAP0Gaoa"
      },
      "source": [
        "# **Project Name**    - Hotel Booking Analysis\n",
        "\n"
      ]
    },
    {
      "cell_type": "markdown",
      "metadata": {
        "id": "beRrZCGUAJYm"
      },
      "source": [
        "##### **Project Type**    - EDA/Regression/Classification/Unsupervised\n",
        "##### **Contribution**    - Individual\n",
        "##### **Member-**  Sanatan"
      ]
    },
    {
      "cell_type": "markdown",
      "metadata": {
        "id": "FJNUwmbgGyua"
      },
      "source": [
        "# **Project Summary -**"
      ]
    },
    {
      "cell_type": "markdown",
      "metadata": {
        "id": "F6v_1wHtG2nS"
      },
      "source": [
        "1. Introduction:\n",
        "\n",
        "In this project, we will conduct Exploratory Data Analysis (EDA) on a dataset containing information about hotel bookings. The dataset comprises 119,390 rows and 32 columns, encompassing various attributes related to hotel reservations.\n",
        "\n",
        "2. Objective:\n",
        "\n",
        "The primary goal of this project is to gain insights into the patterns, trends, and characteristics present in the hotel booking data. Through EDA, we aim to uncover valuable information that can aid in understanding customer behavior, booking trends, and factors influencing booking cancellations."
      ]
    },
    {
      "cell_type": "markdown",
      "metadata": {
        "id": "w6K7xa23Elo4"
      },
      "source": [
        "# **GitHub Link -**"
      ]
    },
    {
      "cell_type": "markdown",
      "metadata": {
        "id": "h1o69JH3Eqqn"
      },
      "source": [
        "https://github.com/Sanatanpradhan/Hotel_booking_analysis"
      ]
    },
    {
      "cell_type": "markdown",
      "metadata": {
        "id": "yQaldy8SH6Dl"
      },
      "source": [
        "# **Problem Statement**\n"
      ]
    },
    {
      "cell_type": "markdown",
      "metadata": {
        "id": "DpeJGUA3kjGy"
      },
      "source": [
        "1. To verify overall cancellation and booking over the year.\n",
        "2. To check the distribution of bookings across different months.\n",
        "3. To check patterns or trends in cancellations based on the day of the week of arrival.\n",
        "4. To check if the booking lead time (days before arrival) differs between canceled and non-canceled bookings.\n",
        "5. To find if there are any differences in booking behavior between repeated guests and first-time guests.\n",
        "6. To determine the most common room type reserved and assigned.\n",
        "7. To find if the reserved room differs from the assigned room, what percentage of bookings are typically canceled?\n",
        "8. To check the distribution of guests based on their country of origin.\n",
        "9. To verify how the deposit type chosen by guests relates to their cancellation behavior.\n",
        "10. To verify if the ADR varies depending on the hotel type, room type, or booking channel.\n",
        "11. To check whether special requests correlate with higher rates, we need to examine whether they contribute to an increase in Average Daily Revenue (ADR).\n",
        "12. To identify specific customer types that exhibit higher cancellation rates.\n",
        "13. To find the ratio of new guests vs. returning guests.\n",
        "14. How do the numbers of adults, children, and babies ('adults', 'children', 'babies') affect the length of stay?"
      ]
    },
    {
      "cell_type": "markdown",
      "metadata": {
        "id": "mDgbUHAGgjLW"
      },
      "source": [
        "# **General Guidelines** : -  "
      ]
    },
    {
      "cell_type": "markdown",
      "metadata": {
        "id": "ZrxVaUj-hHfC"
      },
      "source": [
        "1.   Well-structured, formatted, and commented code is required.\n",
        "2.   Exception Handling, Production Grade Code & Deployment Ready Code will be a plus. Those students will be awarded some additional credits.\n",
        "     \n",
        "     The additional credits will have advantages over other students during Star Student selection.\n",
        "       \n",
        "             [ Note: - Deployment Ready Code is defined as, the whole .ipynb notebook should be executable in one go\n",
        "                       without a single error logged. ]\n",
        "\n",
        "3.   Each and every logic should have proper comments.\n",
        "4. You may add as many number of charts you want. Make Sure for each and every chart the following format should be answered.\n",
        "        \n",
        "\n",
        "```\n",
        "# Chart visualization code\n",
        "```\n",
        "            \n",
        "\n",
        "*   Why did you pick the specific chart?\n",
        "*   What is/are the insight(s) found from the chart?\n",
        "* Will the gained insights help creating a positive business impact?\n",
        "Are there any insights that lead to negative growth? Justify with specific reason.\n",
        "\n",
        "5. You have to create at least 20 logical & meaningful charts having important insights.\n",
        "\n",
        "\n",
        "[ Hints : - Do the Vizualization in  a structured way while following \"UBM\" Rule.\n",
        "\n",
        "U - Univariate Analysis,\n",
        "\n",
        "B - Bivariate Analysis (Numerical - Categorical, Numerical - Numerical, Categorical - Categorical)\n",
        "\n",
        "M - Multivariate Analysis\n",
        " ]\n",
        "\n",
        "\n",
        "\n"
      ]
    },
    {
      "cell_type": "markdown",
      "metadata": {
        "id": "O_i_v8NEhb9l"
      },
      "source": [
        "# ***Let's Begin !***"
      ]
    },
    {
      "cell_type": "markdown",
      "metadata": {
        "id": "HhfV-JJviCcP"
      },
      "source": [
        "## ***1. Know Your Data***"
      ]
    },
    {
      "cell_type": "markdown",
      "metadata": {
        "id": "Y3lxredqlCYt"
      },
      "source": [
        "### Import Libraries"
      ]
    },
    {
      "cell_type": "code",
      "execution_count": null,
      "metadata": {
        "id": "M8Vqi-pPk-HR"
      },
      "outputs": [],
      "source": [
        "import pandas as pd\n",
        "import numpy as np\n",
        "from matplotlib import pyplot as plt\n",
        "import seaborn as sns\n",
        "import datetime as datetime"
      ]
    },
    {
      "cell_type": "markdown",
      "metadata": {
        "id": "3RnN4peoiCZX"
      },
      "source": [
        "## Dataset Loading"
      ]
    },
    {
      "cell_type": "markdown",
      "source": [
        "### Mounting Drive"
      ],
      "metadata": {
        "id": "WIXwejkV8mRq"
      }
    },
    {
      "cell_type": "code",
      "source": [
        "from google.colab import drive\n",
        "drive.mount('/content/drive')"
      ],
      "metadata": {
        "id": "1kanMTpG8lxC"
      },
      "execution_count": null,
      "outputs": []
    },
    {
      "cell_type": "code",
      "execution_count": null,
      "metadata": {
        "id": "4CkvbW_SlZ_R"
      },
      "outputs": [],
      "source": [
        "import os\n",
        "\n",
        "data_path = os.path.join('/content/drive/MyDrive/Almabetter/', 'hotel booking EDA', 'Hotel Bookings.csv')\n",
        "\n",
        "df = pd.read_csv(data_path)"
      ]
    },
    {
      "cell_type": "markdown",
      "metadata": {
        "id": "x71ZqKXriCWQ"
      },
      "source": [
        "### Dataset First View"
      ]
    },
    {
      "cell_type": "code",
      "execution_count": null,
      "metadata": {
        "id": "LWNFOSvLl09H"
      },
      "outputs": [],
      "source": [
        "df"
      ]
    },
    {
      "cell_type": "code",
      "source": [
        "df.head(5)"
      ],
      "metadata": {
        "id": "xeZPIVKc88NE"
      },
      "execution_count": null,
      "outputs": []
    },
    {
      "cell_type": "code",
      "source": [
        "df.tail(5)"
      ],
      "metadata": {
        "id": "GwH0f_qn8_nT"
      },
      "execution_count": null,
      "outputs": []
    },
    {
      "cell_type": "markdown",
      "metadata": {
        "id": "7hBIi_osiCS2"
      },
      "source": [
        "### Dataset Rows & Columns count"
      ]
    },
    {
      "cell_type": "code",
      "execution_count": null,
      "metadata": {
        "id": "Kllu7SJgmLij"
      },
      "outputs": [],
      "source": [
        "df.shape"
      ]
    },
    {
      "cell_type": "markdown",
      "metadata": {
        "id": "JlHwYmJAmNHm"
      },
      "source": [
        "### Dataset Information"
      ]
    },
    {
      "cell_type": "code",
      "execution_count": null,
      "metadata": {
        "id": "e9hRXRi6meOf"
      },
      "outputs": [],
      "source": [
        "df.info()"
      ]
    },
    {
      "cell_type": "markdown",
      "metadata": {
        "id": "35m5QtbWiB9F"
      },
      "source": [
        "#### Duplicate Values"
      ]
    },
    {
      "cell_type": "code",
      "execution_count": null,
      "metadata": {
        "id": "1sLdpKYkmox0"
      },
      "outputs": [],
      "source": [
        "# count of duplicate value\n",
        "df.duplicated().sum()"
      ]
    },
    {
      "cell_type": "code",
      "execution_count": null,
      "metadata": {
        "id": "131YefFLqhK9"
      },
      "outputs": [],
      "source": [
        "# duplicate row\n",
        "df[df.duplicated()]"
      ]
    },
    {
      "cell_type": "markdown",
      "metadata": {
        "id": "PoPl-ycgm1ru"
      },
      "source": [
        "#### Missing Values/Null Values"
      ]
    },
    {
      "cell_type": "code",
      "execution_count": null,
      "metadata": {
        "id": "GgHWkxvamxVg"
      },
      "outputs": [],
      "source": [
        "# Missing Values/Null Values Count\n",
        "df.isnull().sum()"
      ]
    },
    {
      "cell_type": "code",
      "execution_count": null,
      "metadata": {
        "id": "3q5wnI3om9sJ"
      },
      "outputs": [],
      "source": [
        "# Visualizing the missing values\n",
        "import missingno as msno\n",
        "import matplotlib.pyplot as plt\n",
        "\n",
        "msno.matrix(df)\n",
        "plt.show()\n"
      ]
    },
    {
      "cell_type": "markdown",
      "metadata": {
        "id": "H0kj-8xxnORC"
      },
      "source": [
        "### What did you know about your dataset?"
      ]
    },
    {
      "cell_type": "markdown",
      "metadata": {
        "id": "gfoNAAC-nUe_"
      },
      "source": [
        "The dataset comprises daily hotel booking records with a total of 32 columns and 119,390 rows. Notably, there are 31,994 duplicate rows within the dataset. Almost all columns already possess the correct data type, while one column \"reservation_status_date\" require to change into date time format to meet the necessary data type specifications.For instance, the 'year' and \"reservation_status_date\" columns need to convert into datetime format to facilitate subsequent analysis. Additionally, the 'country' column contains 488 missing values, the 'agent' column has 16,340 missing values, and the 'company' column has 112,593 missing values mean 93% data in company column have nan values."
      ]
    },
    {
      "cell_type": "markdown",
      "metadata": {
        "id": "nA9Y7ga8ng1Z"
      },
      "source": [
        "## ***2. Understanding Your Variables***"
      ]
    },
    {
      "cell_type": "code",
      "execution_count": null,
      "metadata": {
        "id": "j7xfkqrt5Ag5"
      },
      "outputs": [],
      "source": [
        "df.columns"
      ]
    },
    {
      "cell_type": "markdown",
      "metadata": {
        "id": "u3PMJOP6ngxN"
      },
      "source": [
        "### Check Unique Values for each variable."
      ]
    },
    {
      "cell_type": "code",
      "execution_count": null,
      "metadata": {
        "id": "zms12Yq5n-jE"
      },
      "outputs": [],
      "source": [
        "# Check Unique Values for each variable.\n",
        "for column in df.columns:\n",
        "    print(df[column].unique())"
      ]
    },
    {
      "cell_type": "markdown",
      "metadata": {
        "id": "dauF4eBmngu3"
      },
      "source": [
        "## 3. ***Data Wrangling***"
      ]
    },
    {
      "cell_type": "markdown",
      "metadata": {
        "id": "bKJF3rekwFvQ"
      },
      "source": [
        "### Data Wrangling Code"
      ]
    },
    {
      "cell_type": "code",
      "execution_count": null,
      "metadata": {
        "id": "wk-9a2fpoLcV"
      },
      "outputs": [],
      "source": [
        "# Droping duplicate rows in data frame\n",
        "df.drop_duplicates(inplace=True)"
      ]
    },
    {
      "cell_type": "code",
      "execution_count": null,
      "metadata": {
        "id": "ZOkKzyFTqhLC"
      },
      "outputs": [],
      "source": [
        "# Droping \"company\" column.\n",
        "df.drop(\"company\",axis=1,inplace=True)"
      ]
    },
    {
      "cell_type": "code",
      "execution_count": null,
      "metadata": {
        "id": "P-vaoIWmqhLW"
      },
      "outputs": [],
      "source": [
        "df['reservation_status_date']=pd.to_datetime(df['reservation_status_date'],format='%Y-%m-%d')"
      ]
    },
    {
      "cell_type": "code",
      "execution_count": null,
      "metadata": {
        "id": "EMxG3dLjqhLW"
      },
      "outputs": [],
      "source": [
        "# creating a new column \"arrival _month\" in intiger from column \"arrival_date_month\" for further use\n",
        "def month(x):\n",
        "    month_dict={\"January\":1,\"February\":2,\"March\":3,\"April\":4,\"May\":5,\"June\":6,\"July\":7,\"August\":8,\"September\":9,\"October\":10,\"November\":11,\"December\":12}\n",
        "    if x in month_dict:\n",
        "        return month_dict[x]\n",
        "\n",
        "df[\"arrival_month\"]=df[\"arrival_date_month\"].apply(month)"
      ]
    },
    {
      "cell_type": "code",
      "execution_count": null,
      "metadata": {
        "id": "M1ueLytIqhLX"
      },
      "outputs": [],
      "source": [
        "# creating column \"arrival_date\" from [\"arrival_date_year\"],[\"arrival_month\"],[\"arrival_date_day_of_month\"] column from main data for further analysis\n",
        "def arrival_date_maker(data):\n",
        "    return datetime.datetime(year=data[\"arrival_date_year\"],month=data[\"arrival_month\"],day=data[\"arrival_date_day_of_month\"])\n",
        "\n",
        "df[\"arrival_date\"]=df.apply(arrival_date_maker,axis=1)"
      ]
    },
    {
      "cell_type": "markdown",
      "metadata": {
        "id": "5BNzEWErqhLX"
      },
      "source": [
        "### What all manipulations have you done and insights you found?"
      ]
    },
    {
      "cell_type": "markdown",
      "metadata": {
        "id": "o9NNv7nwqhLY"
      },
      "source": [
        "#### The hotel booking data had 119,390 entries, but 31,994 were duplicates, so I removed duplicates from the data so i can draw meaningfull insight.Also I noticed that the 'company' column had 93% missing values, so I removed it since it wouldn't impact my analysis. Columns with only 7% data were too small to provide useful insights, so I decided not to consider them further. column \"reservation_status_date\" is in string format change it to date time format. created a column named arrival date for further analysis."
      ]
    },
    {
      "cell_type": "code",
      "execution_count": null,
      "metadata": {
        "id": "qStIVrUZqhLY"
      },
      "outputs": [],
      "source": [
        "df.info()"
      ]
    },
    {
      "cell_type": "markdown",
      "metadata": {
        "id": "ku9q3owOqhLZ"
      },
      "source": [
        "### Guest Characteristics:"
      ]
    },
    {
      "cell_type": "markdown",
      "metadata": {
        "id": "EToVUeDpqhLZ"
      },
      "source": [
        "#### Average number of guests per booking (adults + children + babies)"
      ]
    },
    {
      "cell_type": "code",
      "execution_count": null,
      "metadata": {
        "id": "5pyWuN7DqhLZ"
      },
      "outputs": [],
      "source": [
        "total=df[['adults','children','babies']].sum(axis=1)\n",
        "average_guest=(total.sum())/len(df[\"adults\"])\n",
        "average_guest"
      ]
    },
    {
      "cell_type": "markdown",
      "metadata": {
        "id": "-7K_7ZqgqhLa"
      },
      "source": [
        "#### Distribution of guests differ between different market segments."
      ]
    },
    {
      "cell_type": "code",
      "execution_count": null,
      "metadata": {
        "id": "jROV0bZmqhLa"
      },
      "outputs": [],
      "source": [
        "plt.figure(figsize=(18,5))\n",
        "sns.histplot(x=\"market_segment\",data=df)\n",
        "plt.title(\"Distribution of guests in different market segment\")\n",
        "plt.xlabel(\"Market segment\")\n",
        "plt.ylabel(\"Count\")\n",
        "plt.show()"
      ]
    },
    {
      "cell_type": "markdown",
      "metadata": {
        "id": "GF8Ens_Soomf"
      },
      "source": [
        "## ***4. Data Vizualization, Storytelling & Experimenting with charts : Understand the relationships between variables***"
      ]
    },
    {
      "cell_type": "markdown",
      "metadata": {
        "id": "QpAZdkNmqhLb"
      },
      "source": [
        "#### Chart - 1"
      ]
    },
    {
      "cell_type": "code",
      "execution_count": null,
      "metadata": {
        "id": "2kEoMOWYqhLb"
      },
      "outputs": [],
      "source": [
        "checkout_room_df=df[df[\"reservation_status\"]!=\"No-Show\"]\n",
        "a=checkout_room_df.groupby(\"arrival_date_year\")[\"reservation_status\"].value_counts(normalize=False).reset_index()"
      ]
    },
    {
      "cell_type": "code",
      "execution_count": null,
      "metadata": {
        "id": "2bsCk1SFqhLc"
      },
      "outputs": [],
      "source": [
        "plt.figure(figsize=(13,4))\n",
        "sns.barplot(x=\"arrival_date_year\",y=\"count\",hue=\"reservation_status\",data=a)\n",
        "handles, labels = plt.gca().get_legend_handles_labels()\n",
        "plt.legend(handles=handles,labels=['Booked', 'Canceled'], title='Reservation Status')\n",
        "plt.title(\"Booked VS Canceled\")\n",
        "plt.xlabel(\"Year\")\n",
        "plt.ylabel(\"Count\")\n",
        "plt.tight_layout()\n",
        "plt.show()"
      ]
    },
    {
      "cell_type": "markdown",
      "metadata": {
        "id": "K5QZ13OEpz2H"
      },
      "source": [
        "##### 1. Why did you pick the specific chart?"
      ]
    },
    {
      "cell_type": "markdown",
      "metadata": {
        "id": "XESiWehPqBRc"
      },
      "source": [
        "To verify overall cancellation and booking over year."
      ]
    },
    {
      "cell_type": "markdown",
      "metadata": {
        "id": "lQ7QKXXCp7Bj"
      },
      "source": [
        "##### 2. What is/are the insight(s) found from the chart?"
      ]
    },
    {
      "cell_type": "markdown",
      "metadata": {
        "id": "BYYHb3v4qhLe"
      },
      "source": [
        "The chart above shows how many bookings were made and how many were canceled each year. It's clear that cancellations have gone up over these three years, meaning more people are canceling their bookings."
      ]
    },
    {
      "cell_type": "markdown",
      "metadata": {
        "id": "448CDAPjqfQr"
      },
      "source": [
        "##### 3. Will the gained insights help creating a positive business impact?"
      ]
    },
    {
      "cell_type": "markdown",
      "metadata": {
        "id": "UV5xssBQqhLe"
      },
      "source": [
        "\n",
        "The increasing trend of cancellations over the three-year period suggests a potential area of concern for the business. Understanding the reasons behind this rise in cancellations could provide valuable insights. It may indicate issues such as dissatisfaction with services, changes in customer preferences, or competitive pressures. Addressing these factors proactively could help mitigate cancellations and improve overall customer satisfaction, ultimately leading to better business performance and retention"
      ]
    },
    {
      "cell_type": "markdown",
      "metadata": {
        "id": "KSlN3yHqYklG"
      },
      "source": [
        "#### Chart - 2"
      ]
    },
    {
      "cell_type": "code",
      "execution_count": null,
      "metadata": {
        "id": "R4YgtaqtYklH"
      },
      "outputs": [],
      "source": [
        "# Chart - 2 visualization code\n",
        "plt.figure(figsize=(18,5))\n",
        "filtered_df=df[df[\"reservation_status\"]==\"Check-Out\"]\n",
        "\n",
        "sns.histplot(x=\"arrival_date_month\",data=filtered_df)\n",
        "plt.xlabel(\"Month\")\n",
        "plt.ylabel(\"Booking Count\")\n",
        "plt.title(\"Booking across in different month\")\n",
        "plt.tight_layout()\n",
        "plt.show()"
      ]
    },
    {
      "cell_type": "code",
      "execution_count": null,
      "metadata": {
        "id": "-7VioxH_qhLf"
      },
      "outputs": [],
      "source": [
        "filtered_df.groupby(\"arrival_date_month\")[\"arrival_date_month\"].count()"
      ]
    },
    {
      "cell_type": "markdown",
      "metadata": {
        "id": "t6dVpIINYklI"
      },
      "source": [
        "##### 1. Why did you pick the specific chart?"
      ]
    },
    {
      "cell_type": "markdown",
      "metadata": {
        "id": "5aaW0BYyYklI"
      },
      "source": [
        "To check distribution of bookings across different months."
      ]
    },
    {
      "cell_type": "markdown",
      "metadata": {
        "id": "ijmpgYnKYklI"
      },
      "source": [
        "##### 2. What is/are the insight(s) found from the chart?"
      ]
    },
    {
      "cell_type": "markdown",
      "metadata": {
        "id": "PSx9atu2YklI"
      },
      "source": [
        "The chart shows that bookings increased in July and August. There was a gradual rise from January to August, followed by a decline until January again."
      ]
    },
    {
      "cell_type": "markdown",
      "metadata": {
        "id": "-JiQyfWJYklI"
      },
      "source": [
        "##### 3. Will the gained insights help creating a positive business impact?\n",
        "Are there any insights that lead to negative growth? Justify with specific reason."
      ]
    },
    {
      "cell_type": "markdown",
      "metadata": {
        "id": "BcBbebzrYklV"
      },
      "source": [
        "The data indicates a positive trend in bookings, with a noticeable increase during the summer months of July and August. This suggests a potential seasonal pattern in customer demand."
      ]
    },
    {
      "cell_type": "markdown",
      "metadata": {
        "id": "EM7whBJCYoAo"
      },
      "source": [
        "#### Chart - 3"
      ]
    },
    {
      "cell_type": "code",
      "execution_count": null,
      "metadata": {
        "id": "t6GMdE67YoAp"
      },
      "outputs": [],
      "source": [
        "plt.figure(figsize=(18,6))\n",
        "sns.lineplot(x=\"arrival_date_week_number\", y=\"is_canceled\", data=df)\n",
        "plt.xlabel(\"Week number\")\n",
        "plt.ylabel(\"Cancelation Count\")\n",
        "plt.title(\"Cancelation across different week\")\n",
        "plt.tight_layout()\n",
        "plt.show()"
      ]
    },
    {
      "cell_type": "markdown",
      "metadata": {
        "id": "fge-S5ZAYoAp"
      },
      "source": [
        "##### 1. Why did you pick the specific chart?"
      ]
    },
    {
      "cell_type": "markdown",
      "metadata": {
        "id": "5dBItgRVYoAp"
      },
      "source": [
        "To check patterns or trends in cancellations based on the day of the week of arrival?"
      ]
    },
    {
      "cell_type": "markdown",
      "metadata": {
        "id": "85gYPyotYoAp"
      },
      "source": [
        "##### 2. What is/are the insight(s) found from the chart?"
      ]
    },
    {
      "cell_type": "markdown",
      "metadata": {
        "id": "4jstXR6OYoAp"
      },
      "source": [
        "Most cancellations occurred during the 20th week of the year, which falles in the month of May."
      ]
    },
    {
      "cell_type": "markdown",
      "metadata": {
        "id": "RoGjAbkUYoAp"
      },
      "source": [
        "##### 3. Will the gained insights help creating a positive business impact?\n",
        "Are there any insights that lead to negative growth? Justify with specific reason."
      ]
    },
    {
      "cell_type": "markdown",
      "metadata": {
        "id": "zfJ8IqMcYoAp"
      },
      "source": [
        "Peak cancellations in May (20th week) suggest a seasonal trend. Consider targeted communication, incentives, and feedback collection to address customer concerns"
      ]
    },
    {
      "cell_type": "markdown",
      "metadata": {
        "id": "4Of9eVA-YrdM"
      },
      "source": [
        "#### Chart - 4"
      ]
    },
    {
      "cell_type": "code",
      "execution_count": null,
      "metadata": {
        "id": "irlUoxc8YrdO"
      },
      "outputs": [],
      "source": [
        "sns.barplot(x=\"is_canceled\",y=\"lead_time\",data=df)\n",
        "plt.show()"
      ]
    },
    {
      "cell_type": "code",
      "execution_count": null,
      "metadata": {
        "id": "30mZFqDZqhLk"
      },
      "outputs": [],
      "source": [
        "sns.heatmap(df[[\"is_canceled\",\"lead_time\"]].corr(),annot=True)\n",
        "\n",
        "plt.show()"
      ]
    },
    {
      "cell_type": "code",
      "execution_count": null,
      "metadata": {
        "id": "ij-f0uRcqhLl"
      },
      "outputs": [],
      "source": [
        "df[\"lead_time\"].max()"
      ]
    },
    {
      "cell_type": "markdown",
      "metadata": {
        "id": "iky9q4vBYrdO"
      },
      "source": [
        "##### 1. Why did you pick the specific chart?"
      ]
    },
    {
      "cell_type": "markdown",
      "metadata": {
        "id": "aJRCwT6DYrdO"
      },
      "source": [
        "To check the booking lead time (days before arrival) differ between canceled and non-canceled bookings?"
      ]
    },
    {
      "cell_type": "markdown",
      "metadata": {
        "id": "F6T5p64dYrdO"
      },
      "source": [
        "##### 2. What is/are the insight(s) found from the chart?"
      ]
    },
    {
      "cell_type": "markdown",
      "metadata": {
        "id": "Xx8WAJvtYrdO"
      },
      "source": [
        "A positive correlation has been observed between high lead time and high cancellation rates, indicating that as lead time increases, cancellations also tend to rise."
      ]
    },
    {
      "cell_type": "markdown",
      "metadata": {
        "id": "y-Ehk30pYrdP"
      },
      "source": [
        "##### 3. Will the gained insights help creating a positive business impact?\n",
        "Are there any insights that lead to negative growth? Justify with specific reason."
      ]
    },
    {
      "cell_type": "markdown",
      "metadata": {
        "id": "jLNxxz7MYrdP"
      },
      "source": [
        "It has been observed that bookings made well in advance often get cancelled. To address this, they may consider shortening the booking window, potentially limiting it to less than two years. Because as per data maximum days for advance booking is 737, around 2 years."
      ]
    },
    {
      "cell_type": "markdown",
      "metadata": {
        "id": "bamQiAODYuh1"
      },
      "source": [
        "#### Chart - 5"
      ]
    },
    {
      "cell_type": "code",
      "execution_count": null,
      "metadata": {
        "id": "bjPsZIVfqhLm"
      },
      "outputs": [],
      "source": [
        "df.shape"
      ]
    },
    {
      "cell_type": "code",
      "execution_count": null,
      "metadata": {
        "id": "swMmxXtOqhLm"
      },
      "outputs": [],
      "source": [
        "repeate_cx=len(df[df[\"is_repeated_guest\"]==1])\n",
        "cancelation_of_repeate_cx=len(df[(df[\"is_repeated_guest\"]==1) & (df[\"is_canceled\"]==1)])\n",
        "cancelation_of_new_cx=len(df[(df[\"is_repeated_guest\"]==0) & (df[\"is_canceled\"]==1)])\n",
        "total_booking=87396\n",
        "f\"total booking={total_booking},repeate customer={repeate_cx}, cancelation of repete customer={cancelation_of_repeate_cx}, cancelation of new customer={cancelation_of_new_cx}\""
      ]
    },
    {
      "cell_type": "markdown",
      "metadata": {
        "id": "dcxuIMRPYuh3"
      },
      "source": [
        "Above calculation is to find if there any differences in booking behavior between repeated guests and first-time guests?"
      ]
    },
    {
      "cell_type": "markdown",
      "metadata": {
        "id": "GwzvFGzlYuh3"
      },
      "source": [
        "##### 2. What is/are the insight(s) found from the calculation?"
      ]
    },
    {
      "cell_type": "markdown",
      "metadata": {
        "id": "uyqkiB8YYuh3"
      },
      "source": [
        "After doing the calculations, I discovered that 3.91% of our customers are repeat customers. If we check the cancellation percentages, we see that repeat customers have a cancellation rate of 7.64%, while new customers have a higher rate of 27.19%. This indicates that repeat customers are less likely to cancel compared to new customers."
      ]
    },
    {
      "cell_type": "markdown",
      "metadata": {
        "id": "qYpmQ266Yuh3"
      },
      "source": [
        "##### 3. Will the gained insights help creating a positive business impact?"
      ]
    },
    {
      "cell_type": "markdown",
      "metadata": {
        "id": "_WtzZ_hCYuh4"
      },
      "source": [
        "The hospitality industry repeate rate of customer is 55% , as reported by Statista. However, we've observed a much lower rate of only 3.91% here. This is quite concerning, indicating that our hotel should focus more on improving service and enhancing the overall customer experience. By doing so, we can increase the number of repeat customers. Additionally, offering special deals during the booking process could help prevent cancellations and attract more guests."
      ]
    },
    {
      "cell_type": "markdown",
      "metadata": {
        "id": "OH-pJp9IphqM"
      },
      "source": [
        "#### Chart - 6"
      ]
    },
    {
      "cell_type": "code",
      "execution_count": null,
      "metadata": {
        "id": "bSJ_qnaoqhLn"
      },
      "outputs": [],
      "source": [
        "plt.figure(figsize=(12,5))\n",
        "sns.histplot(df[\"reserved_room_type\"])\n",
        "plt.xlabel(\"Reserved room type\")\n",
        "plt.ylabel(\"Frequency of booking\")\n",
        "plt.title(\"Reserved room type frequecy\")\n",
        "plt.tight_layout()\n",
        "plt.show()"
      ]
    },
    {
      "cell_type": "code",
      "execution_count": null,
      "metadata": {
        "id": "wEu2P4VxqhLn"
      },
      "outputs": [],
      "source": [
        "plt.figure(figsize=(12,5))\n",
        "sns.histplot(df[\"assigned_room_type\"])\n",
        "plt.xlabel(\"Assigned room type\")\n",
        "plt.ylabel(\"Frequency of booking\")\n",
        "plt.title(\"Assigned room type frequecy\")\n",
        "plt.tight_layout()\n",
        "plt.show()"
      ]
    },
    {
      "cell_type": "markdown",
      "metadata": {
        "id": "bbFf2-_FphqN"
      },
      "source": [
        "##### 1. Why did you pick the specific chart?"
      ]
    },
    {
      "cell_type": "markdown",
      "metadata": {
        "id": "loh7H2nzphqN"
      },
      "source": [
        "To determine the most common room type reserved and assigned."
      ]
    },
    {
      "cell_type": "markdown",
      "metadata": {
        "id": "_ouA3fa0phqN"
      },
      "source": [
        "##### 2. What is/are the insight(s) found from the chart?"
      ]
    },
    {
      "cell_type": "markdown",
      "metadata": {
        "id": "VECbqPI7phqN"
      },
      "source": [
        "There is consistency between the room type most frequently booked and the room type most frequently assigned. Specifically, room type \"A\" emerges as the most common choice both in terms of reservations made by guests and the actual room assignments. This alignment suggests a pattern where guests predominantly prefer and ultimately receive room type \"A.\""
      ]
    },
    {
      "cell_type": "markdown",
      "metadata": {
        "id": "Seke61FWphqN"
      },
      "source": [
        "##### 3. Will the gained insights help creating a positive business impact?\n",
        "Are there any insights that lead to negative growth? Justify with specific reason."
      ]
    },
    {
      "cell_type": "markdown",
      "metadata": {
        "id": "DW4_bGpfphqN"
      },
      "source": [
        "As it indicates a strong demand or preference for room type \"A\" among guests. Hotel administrators may consider optimizing their room allocation strategies to align with this prevalent choice, potentially enhancing overall guest satisfaction and streamlining operational processes. Additionally, understanding such patterns can influence pricing strategies and marketing efforts for the highlighted room type, capitalizing on its popularity to maximize revenue."
      ]
    },
    {
      "cell_type": "markdown",
      "metadata": {
        "id": "PIIx-8_IphqN"
      },
      "source": [
        "#### Chart - 7"
      ]
    },
    {
      "cell_type": "code",
      "execution_count": null,
      "metadata": {
        "id": "lqAIGUfyphqO"
      },
      "outputs": [],
      "source": [
        "room_change_count=len(df[df[\"reserved_room_type\"]!=df[\"assigned_room_type\"]])\n",
        "canceled_for_room_change=len(df[(df[\"reserved_room_type\"]!=df[\"assigned_room_type\"]) & (df[\"is_canceled\"]==1)])\n",
        "percentage_of_cancelation=round((canceled_for_room_change/room_change_count)*100,2)\n",
        "print(f\"Total count of differ room from assigned room= {room_change_count}\\nTotal cancelation due to room change= {canceled_for_room_change}\\nPercentage of cancelation= {percentage_of_cancelation}%\")"
      ]
    },
    {
      "cell_type": "markdown",
      "metadata": {
        "id": "t27r6nlMphqO"
      },
      "source": [
        "##### 1. Why did you pick the specific chart?"
      ]
    },
    {
      "cell_type": "markdown",
      "metadata": {
        "id": "iv6ro40sphqO"
      },
      "source": [
        "To find if the reserved room differs from the assigned room, what percentage of bookings are typically canceled?"
      ]
    },
    {
      "cell_type": "markdown",
      "metadata": {
        "id": "r2jJGEOYphqO"
      },
      "source": [
        "##### 2. What is/are the insight(s) found from the chart?"
      ]
    },
    {
      "cell_type": "markdown",
      "metadata": {
        "id": "Po6ZPi4hphqO"
      },
      "source": [
        "After performing the calculation, it was determined that 13,109 guests received a room different from their assigned one. Out of this total, only 613 guests opted to cancel their bookings. Interestingly, the discrepancy in room allocation had a minimal impact on cancellations, accounting for only 4.71% of the cases."
      ]
    },
    {
      "cell_type": "markdown",
      "metadata": {
        "id": "b0JNsNcRphqO"
      },
      "source": [
        "##### 3. Will the gained insights help creating a positive business impact?\n",
        "Are there any insights that lead to negative growth? Justify with specific reason."
      ]
    },
    {
      "cell_type": "markdown",
      "metadata": {
        "id": "xvSq8iUTphqO"
      },
      "source": [
        "This shows that room mix-ups didn't bother most guests enough to cancel. It suggests that other factors are more crucial in influencing cancellations. To improve guest satisfaction and keep them, it's important to focus on addressing these main concerns."
      ]
    },
    {
      "cell_type": "markdown",
      "metadata": {
        "id": "BZR9WyysphqO"
      },
      "source": [
        "#### Chart - 8"
      ]
    },
    {
      "cell_type": "code",
      "execution_count": null,
      "metadata": {
        "id": "BIIgl3MVqhLp"
      },
      "outputs": [],
      "source": [
        "# adding a new row to count total guest\n",
        "df[\"total_guest\"]=df[[\"adults\",\"babies\",\"children\"]].apply(lambda x:x.sum(),axis=1)\n",
        "# grouping by country\n",
        "guest_count_df=df.groupby(\"country\")[\"total_guest\"].sum().reset_index(name=\"count\").sort_values(by=\"count\",ascending=False)\n",
        "\n",
        "# presenting data\n",
        "plt.figure(figsize=(16,8))\n",
        "sns.barplot(y=\"country\",x=\"count\",data=guest_count_df.head(20)) # taking top 20 because the size of data is too long , and it is not looking good when present\n",
        "plt.ylabel(\"Country\")\n",
        "plt.xlabel(\"Booking Count\")\n",
        "plt.title(\"Country wise booking count\")\n",
        "plt.show()"
      ]
    },
    {
      "cell_type": "markdown",
      "metadata": {
        "id": "jj7wYXLtphqO"
      },
      "source": [
        "##### 1. Why did you pick the specific chart?"
      ]
    },
    {
      "cell_type": "markdown",
      "metadata": {
        "id": "Ob8u6rCTphqO"
      },
      "source": [
        "To check the distribution of guests vary based on their country of origin?"
      ]
    },
    {
      "cell_type": "markdown",
      "metadata": {
        "id": "eZrbJ2SmphqO"
      },
      "source": [
        "##### 2. What is/are the insight(s) found from the chart?"
      ]
    },
    {
      "cell_type": "markdown",
      "metadata": {
        "id": "mZtgC_hjphqO"
      },
      "source": [
        "The above chart reveals that the majority of customers are from Portugal, followed by Great Britain, and then France."
      ]
    },
    {
      "cell_type": "markdown",
      "metadata": {
        "id": "rFu4xreNphqO"
      },
      "source": [
        "##### 3. Will the gained insights help creating a positive business impact?"
      ]
    },
    {
      "cell_type": "markdown",
      "metadata": {
        "id": "ey_0qi68phqO"
      },
      "source": [
        "The data suggests a strong customer base from Portugal, followed by Great Britain and France. This indicates an opportunity to customize menu offerings or marketing strategies to better appeal to these demographics and enhance overall customer satisfaction."
      ]
    },
    {
      "cell_type": "markdown",
      "metadata": {
        "id": "YJ55k-q6phqO"
      },
      "source": [
        "#### Chart - 9"
      ]
    },
    {
      "cell_type": "code",
      "execution_count": null,
      "metadata": {
        "id": "B2aS4O1ophqO"
      },
      "outputs": [],
      "source": [
        "# creating cancelation data frame\n",
        "cancelation_df=df[df[\"is_canceled\"]==1]\n",
        "# grouping by deposit type\n",
        "deposit_type_of_canceled_booking=cancelation_df.groupby(\"deposit_type\")[\"deposit_type\"].count().reset_index(name=\"count\")\n",
        "\n",
        "# presentation\n",
        "plt.pie(deposit_type_of_canceled_booking[\"count\"], labels=deposit_type_of_canceled_booking[\"deposit_type\"], autopct='%1.1f%%',wedgeprops=dict(edgecolor='black'))\n",
        "plt.title('Deposit type of canceled booking')\n",
        "plt.tight_layout()\n",
        "plt.show()"
      ]
    },
    {
      "cell_type": "markdown",
      "metadata": {
        "id": "gCFgpxoyphqP"
      },
      "source": [
        "##### 1. Why did you pick the specific chart?"
      ]
    },
    {
      "cell_type": "markdown",
      "metadata": {
        "id": "TVxDimi2phqP"
      },
      "source": [
        "To verify how does the deposit type chosen by guests relate to their cancellation behavior?"
      ]
    },
    {
      "cell_type": "markdown",
      "metadata": {
        "id": "OVtJsKN_phqQ"
      },
      "source": [
        "##### 2. What is/are the insight(s) found from the chart?"
      ]
    },
    {
      "cell_type": "markdown",
      "metadata": {
        "id": "ngGi97qjphqQ"
      },
      "source": [
        "The pie chart illustrates that a significant majority of guests who canceled their bookings did not make any deposit. Specifically, the data indicates that approximately 95% of these cancellations were made by guests who had not placed a deposit."
      ]
    },
    {
      "cell_type": "markdown",
      "metadata": {
        "id": "lssrdh5qphqQ"
      },
      "source": [
        "##### 3. Will the gained insights help creating a positive business impact?\n",
        "Are there any insights that lead to negative growth? Justify with specific reason."
      ]
    },
    {
      "cell_type": "markdown",
      "metadata": {
        "id": "tBpY5ekJphqQ"
      },
      "source": [
        "The main takeaway is that most canceled bookings occur when guests haven't paid any deposit – around 95%. Businesses could improve this situation by encouraging guests to make deposits, potentially reducing cancellations and boosting overall efficiency and revenue."
      ]
    },
    {
      "cell_type": "markdown",
      "metadata": {
        "id": "U2RJ9gkRphqQ"
      },
      "source": [
        "#### Chart - 10"
      ]
    },
    {
      "cell_type": "code",
      "execution_count": null,
      "metadata": {
        "id": "Eh1FUt5jqhLr"
      },
      "outputs": [],
      "source": [
        "\n",
        "plt.figure(figsize=(16,6))\n",
        "\n",
        "plt.subplot(1, 3, 1)\n",
        "sns.lineplot(x=\"assigned_room_type\", y=\"adr\", data=df)\n",
        "plt.title('Assigned Room Type vs ADR')\n",
        "\n",
        "plt.subplot(1, 3, 2)\n",
        "sns.lineplot(x=\"distribution_channel\", y=\"adr\", data=df)\n",
        "plt.title('Distribution Channel vs ADR')\n",
        "\n",
        "plt.subplot(1, 3, 3)\n",
        "sns.lineplot(x=\"hotel\", y=\"adr\", data=df)\n",
        "plt.title('Hotel Type vs ADR')\n",
        "\n",
        "plt.tight_layout()\n",
        "plt.show()"
      ]
    },
    {
      "cell_type": "markdown",
      "metadata": {
        "id": "1M8mcRywphqQ"
      },
      "source": [
        "##### 1. Why did you pick the specific chart?"
      ]
    },
    {
      "cell_type": "markdown",
      "metadata": {
        "id": "T6rF1DeSqhLs"
      },
      "source": [
        "To verify if the ADR vary depending on the hotel type, room type, or booking channel?"
      ]
    },
    {
      "cell_type": "markdown",
      "metadata": {
        "id": "tgIPom80phqQ"
      },
      "source": [
        "##### 2. What is/are the insight(s) found from the chart?"
      ]
    },
    {
      "cell_type": "markdown",
      "metadata": {
        "id": "Qp13pnNzphqQ"
      },
      "source": [
        "The plot above reveals that room type \"H,\" channel GDS, and hotel type \"City Hotel\" contribute to higher Average Daily Revenue (ADR). The mean ADR is notably influenced by both the GDS channel and the \"City Hotel\" category. Additionally, room type \"H\" stands out as the highest contributor to Average Daily Revenue."
      ]
    },
    {
      "cell_type": "markdown",
      "metadata": {
        "id": "JMzcOPDDphqR"
      },
      "source": [
        "##### 3. Will the gained insights help creating a positive business impact?\n",
        "Are there any insights that lead to negative growth? Justify with specific reason."
      ]
    },
    {
      "cell_type": "markdown",
      "metadata": {
        "id": "R4Ka1PC2phqR"
      },
      "source": [
        "The data suggests that the highest Average Daily Revenue (ADR) is associated with room type \"H,\" particularly through the GDS channel and the \"City Hotel\" type. This insight implies that focusing on marketing efforts and optimization strategies for room type \"H\" within the GDS channel, especially in city hotel settings, could yield significant revenue gains for the business."
      ]
    },
    {
      "cell_type": "markdown",
      "metadata": {
        "id": "x-EpHcCOp1ci"
      },
      "source": [
        "#### Chart - 11"
      ]
    },
    {
      "cell_type": "code",
      "execution_count": null,
      "metadata": {
        "id": "mAQTIvtqp1cj"
      },
      "outputs": [],
      "source": [
        "plt.figure(figsize=(16,5))\n",
        "sns.lineplot(x=\"total_of_special_requests\",y=\"adr\",data=df)\n",
        "plt.xlabel(\"Special request\",size=16)\n",
        "plt.ylabel(\"ADR\",size=16)\n",
        "plt.title(\"Special request VS ADR\",size=16)\n",
        "plt.tight_layout()\n",
        "plt.show()"
      ]
    },
    {
      "cell_type": "markdown",
      "metadata": {
        "id": "X_VqEhTip1ck"
      },
      "source": [
        "##### 1. Why did you pick the specific chart?"
      ]
    },
    {
      "cell_type": "markdown",
      "metadata": {
        "id": "-vsMzt_np1ck"
      },
      "source": [
        "To check whether special requests correlate with higher rates, we need to examine whether they contribute to an increase in Average Daily Revenue (ADR)."
      ]
    },
    {
      "cell_type": "markdown",
      "metadata": {
        "id": "8zGJKyg5p1ck"
      },
      "source": [
        "##### 2. What is/are the insight(s) found from the chart?"
      ]
    },
    {
      "cell_type": "markdown",
      "metadata": {
        "id": "ZYdMsrqVp1ck"
      },
      "source": [
        "The above chart indicates a positive correlation between an increase in special requests and a corresponding rise in Average Daily Revenue (ADR)."
      ]
    },
    {
      "cell_type": "markdown",
      "metadata": {
        "id": "PVzmfK_Ep1ck"
      },
      "source": [
        "##### 3. Will the gained insights help creating a positive business impact?\n",
        "Are there any insights that lead to negative growth? Justify with specific reason."
      ]
    },
    {
      "cell_type": "markdown",
      "metadata": {
        "id": "druuKYZpp1ck"
      },
      "source": [
        "The identified positive correlation between an increase in special requests and a rise in Average Daily Revenue (ADR) points to a usable business strategy. Actively promoting and fulfilling special requests could potentially elevate guest satisfaction and, consequently, contribute to a higher ADR. Conversely, a decrease in customer satisfaction may lead to a reduction in special requests, potentially resulting in a decline in ADR and impacting overall financial performance negatively. Hence, maintaining high customer satisfaction is crucial for sustaining a positive correlation between special requests and ADR."
      ]
    },
    {
      "cell_type": "markdown",
      "metadata": {
        "id": "n3dbpmDWp1ck"
      },
      "source": [
        "#### Chart - 12"
      ]
    },
    {
      "cell_type": "code",
      "execution_count": null,
      "metadata": {
        "id": "bwevp1tKp1ck"
      },
      "outputs": [],
      "source": [
        "plt.figure(figsize=(16,5))\n",
        "sns.lineplot(y=\"is_canceled\",x=\"customer_type\",data=df)\n",
        "plt.xlabel(\"Customer Type\",size=16)\n",
        "plt.ylabel(\"Cancelation rate\",size=16)\n",
        "plt.title(\"Distribution of cancellations across customer types.\",size=16)\n",
        "plt.tight_layout()\n",
        "plt.show()"
      ]
    },
    {
      "cell_type": "markdown",
      "metadata": {
        "id": "ylSl6qgtp1ck"
      },
      "source": [
        "##### 1. Why did you pick the specific chart?"
      ]
    },
    {
      "cell_type": "markdown",
      "metadata": {
        "id": "m2xqNkiQp1ck"
      },
      "source": [
        "To check specific customer types that exhibit higher cancellation rates."
      ]
    },
    {
      "cell_type": "markdown",
      "metadata": {
        "id": "ZWILFDl5p1ck"
      },
      "source": [
        "##### 2. What is/are the insight(s) found from the chart?"
      ]
    },
    {
      "cell_type": "markdown",
      "metadata": {
        "id": "x-lUsV2mp1ck"
      },
      "source": [
        "The chart above reveals that cancellations are more frequent among transient customer types, while group types comparatively fewer cancellations."
      ]
    },
    {
      "cell_type": "markdown",
      "metadata": {
        "id": "M7G43BXep1ck"
      },
      "source": [
        "##### 3. Will the gained insights help creating a positive business impact?\n",
        "Are there any insights that lead to negative growth? Justify with specific reason."
      ]
    },
    {
      "cell_type": "markdown",
      "metadata": {
        "id": "5wwDJXsLp1cl"
      },
      "source": [
        "The data presented indicates a notable pattern in cancellation behavior, with transient customer types exhibiting a higher frequency of cancellations compared to group types. This insight suggests that businesses may need to tailor their cancellation policies or implement targeted strategies to deal cancellations, particularly for transient customers. Understanding and addressing the distinct cancellation patterns between customer types can contribute to improved reservation management and overall revenue stability."
      ]
    },
    {
      "cell_type": "markdown",
      "metadata": {
        "id": "Ag9LCva-p1cl"
      },
      "source": [
        "#### Chart - 13"
      ]
    },
    {
      "cell_type": "code",
      "execution_count": null,
      "metadata": {
        "id": "EUfxeq9-p1cl"
      },
      "outputs": [],
      "source": [
        "# created a data from from main data where count of new and repeated guest are grouped by year\n",
        "repeate_df=df.groupby([\"arrival_date_year\",\"is_repeated_guest\"])[\"arrival_date_year\"].count().reset_index(name=\"count_of_guest\")\n",
        "\n",
        "# creating two data frame and merge them into new df as per requirement\n",
        "repet_cx=repeate_df[repeate_df[\"is_repeated_guest\"]==1]\n",
        "new_cx=repeate_df[repeate_df[\"is_repeated_guest\"]==0]\n",
        "\n",
        "# merged 2 data drame\n",
        "repeate_percentage=new_cx.merge(repet_cx,how=\"right\",on=\"arrival_date_year\")[[\"arrival_date_year\",\"count_of_guest_x\",\"count_of_guest_y\"]]\n",
        "repeate_percentage.rename(columns={\"count_of_guest_x\":\"new_cx\",\"count_of_guest_y\":\"repete_cx\"},inplace=True)\n",
        "\n",
        "# created new column for % calculation\n",
        "repeate_percentage[\"repete_percentage\"]=(repeate_percentage[\"repete_cx\"]/repeate_percentage[\"new_cx\"])*100"
      ]
    },
    {
      "cell_type": "code",
      "execution_count": null,
      "metadata": {
        "id": "pEX1HCf0qhLv"
      },
      "outputs": [],
      "source": [
        "plt.figure(figsize=(12,4))\n",
        "sns.barplot(y=\"repete_percentage\",x=\"arrival_date_year\",data=repeate_percentage)\n",
        "plt.xlabel(\"Year\")\n",
        "plt.ylabel(\"Repete customer %\")\n",
        "plt.title(\"Repeate customer % Yearly\")\n",
        "plt.show()"
      ]
    },
    {
      "cell_type": "markdown",
      "metadata": {
        "id": "E6MkPsBcp1cl"
      },
      "source": [
        "##### 1. Why did you pick the specific chart?"
      ]
    },
    {
      "cell_type": "markdown",
      "metadata": {
        "id": "V22bRsFWp1cl"
      },
      "source": [
        "To find the ratio of new guests vs. returning guests."
      ]
    },
    {
      "cell_type": "markdown",
      "metadata": {
        "id": "2cELzS2fp1cl"
      },
      "source": [
        "##### 2. What is/are the insight(s) found from the chart?"
      ]
    },
    {
      "cell_type": "markdown",
      "metadata": {
        "id": "ozQPc2_Ip1cl"
      },
      "source": [
        "The chart shows that the percentage of repeat customers is going up every year. This is a good sign for the hotel."
      ]
    },
    {
      "cell_type": "markdown",
      "metadata": {
        "id": "VTmaI6eEqhLw"
      },
      "source": [
        "##### 3. Will the gained insights help creating a positive business impact?\n",
        "Are there any insights that lead to negative growth? Justify with specific reason."
      ]
    },
    {
      "cell_type": "markdown",
      "metadata": {
        "id": "GL8l1tdLp1cl"
      },
      "source": [
        "The increasing percentage of repeat customers indicates growing loyalty to the hotel. This trend suggests that the hotel is successfully retaining its customers, which can lead to higher revenue and a positive reputation in the market."
      ]
    },
    {
      "cell_type": "markdown",
      "metadata": {
        "id": "NC_X3p0fY2L0"
      },
      "source": [
        "#### Chart - 14"
      ]
    },
    {
      "cell_type": "code",
      "execution_count": null,
      "metadata": {
        "id": "MJG_J-fyqhLw"
      },
      "outputs": [],
      "source": [
        "# creating new column to calculate stay days\n",
        "def day_calc(x):\n",
        "    return x[\"reservation_status_date\"]-x[\"arrival_date\"]\n",
        "\n",
        "df[\"stay_days\"]=df.apply(day_calc,axis=1)\n",
        "\n",
        "data_temp=df[df[\"reservation_status\"]==\"Check-Out\"]  # filtered only booking that are not canceled"
      ]
    },
    {
      "cell_type": "code",
      "execution_count": null,
      "metadata": {
        "id": "RjkEoE2sqhLw"
      },
      "outputs": [],
      "source": [
        "data_temp[['adults', 'children', 'babies',\"stay_days\"]].corr()"
      ]
    },
    {
      "cell_type": "code",
      "execution_count": null,
      "metadata": {
        "id": "1UshSjjZqhLw"
      },
      "outputs": [],
      "source": [
        "plt.figure(figsize=(17, 6))\n",
        "sns.heatmap(data_temp[['adults', 'children', 'babies', \"stay_days\"]].corr(), annot=True)\n",
        "\n",
        "plt.title(\"Correlation Heatmap: Guest Demographics and Stay Duration\", fontsize=13)\n",
        "plt.show()\n"
      ]
    },
    {
      "cell_type": "markdown",
      "metadata": {
        "id": "UV0SzAkaZNRQ"
      },
      "source": [
        "##### 1. Why did you pick the specific chart?"
      ]
    },
    {
      "cell_type": "markdown",
      "metadata": {
        "id": "DVPuT8LYZNRQ"
      },
      "source": [
        "How do the number of adults, children, and babies ('adults', 'children', 'babies') affect the length of stay?"
      ]
    },
    {
      "cell_type": "markdown",
      "metadata": {
        "id": "YPEH6qLeZNRQ"
      },
      "source": [
        "##### 2. What is/are the insight(s) found from the chart?"
      ]
    },
    {
      "cell_type": "markdown",
      "metadata": {
        "id": "bfSqtnDqZNRR"
      },
      "source": [
        "The heatmap reveals the following correlations: adults and stay days have the highest correlation at 0.15, followed by babies and stay days at 0.015, and children and stay days at 0.0086. In summary, more adults tend to lead to longer stays."
      ]
    },
    {
      "cell_type": "markdown",
      "metadata": {
        "id": "JvQNttcbqhLx"
      },
      "source": [
        "##### 3. Will the gained insights help creating a positive business impact?"
      ]
    },
    {
      "cell_type": "markdown",
      "metadata": {
        "id": "trZ8EN4zqhLx"
      },
      "source": [
        "The data shows that the hotel is better equipped for adults than for children and babies. It's obvious that the hotel needs to improve its services for families with young kids. By doing so, they can make their guests happier and attract more families to stay with them, which will help the hotel do better in the long run."
      ]
    },
    {
      "cell_type": "markdown",
      "metadata": {
        "id": "JcMwzZxoAimU"
      },
      "source": [
        "## **5. Solution to Business Objective**"
      ]
    },
    {
      "cell_type": "markdown",
      "metadata": {
        "id": "8G2x9gOozGDZ"
      },
      "source": [
        "#### What do you suggest the client to achieve Business Objective ?"
      ]
    },
    {
      "cell_type": "markdown",
      "metadata": {
        "id": "Lyfs3meIqhLy"
      },
      "source": [
        "The hotel dataset's data analysis yielded insights that allowed for the formulation of the following business objective:\n",
        "\n",
        "\n",
        "\"The hotel intends to implement strategic measures focused on decreasing booking cancellations, increasing repeat customer retention, matching room preferences with actual assignments, and leveraging data correlations to tailor services in order to enhance customer satisfaction and optimize revenue generation.\" The hotel aims to maximize income while maintaining high levels of guest satisfaction by giving priority to guest choices, enhancing booking accuracy, and encouraging loyalty among repeat guests.\"\n"
      ]
    },
    {
      "cell_type": "markdown",
      "metadata": {
        "id": "gCX9965dhzqZ"
      },
      "source": [
        "# **Conclusion**"
      ]
    },
    {
      "cell_type": "markdown",
      "metadata": {
        "id": "Fjb1IsQkh3yE"
      },
      "source": [
        "In conclusion, by reducing cancellations, retaining repeat customers, aligning room preferences, and using data insights, the hotel can boost revenue and guest satisfaction, ensuring a competitive edge in the industry."
      ]
    },
    {
      "cell_type": "markdown",
      "metadata": {
        "id": "gIfDvo9L0UH2"
      },
      "source": [
        "### ***Hurrah! You have successfully completed your EDA Capstone Project !!!***"
      ]
    }
  ],
  "metadata": {
    "colab": {
      "collapsed_sections": [
        "w6K7xa23Elo4",
        "yQaldy8SH6Dl",
        "mDgbUHAGgjLW",
        "HhfV-JJviCcP",
        "Y3lxredqlCYt",
        "3RnN4peoiCZX",
        "WIXwejkV8mRq",
        "x71ZqKXriCWQ",
        "7hBIi_osiCS2",
        "JlHwYmJAmNHm",
        "35m5QtbWiB9F",
        "PoPl-ycgm1ru",
        "H0kj-8xxnORC",
        "nA9Y7ga8ng1Z",
        "u3PMJOP6ngxN",
        "dauF4eBmngu3",
        "bKJF3rekwFvQ",
        "GF8Ens_Soomf",
        "QpAZdkNmqhLb",
        "K5QZ13OEpz2H",
        "lQ7QKXXCp7Bj",
        "448CDAPjqfQr",
        "KSlN3yHqYklG",
        "t6dVpIINYklI",
        "ijmpgYnKYklI",
        "-JiQyfWJYklI",
        "EM7whBJCYoAo",
        "fge-S5ZAYoAp",
        "85gYPyotYoAp",
        "RoGjAbkUYoAp",
        "4Of9eVA-YrdM",
        "iky9q4vBYrdO",
        "F6T5p64dYrdO",
        "y-Ehk30pYrdP",
        "bamQiAODYuh1",
        "GwzvFGzlYuh3",
        "qYpmQ266Yuh3",
        "OH-pJp9IphqM",
        "bbFf2-_FphqN",
        "_ouA3fa0phqN",
        "Seke61FWphqN",
        "PIIx-8_IphqN",
        "t27r6nlMphqO",
        "r2jJGEOYphqO",
        "b0JNsNcRphqO",
        "BZR9WyysphqO",
        "jj7wYXLtphqO",
        "eZrbJ2SmphqO",
        "rFu4xreNphqO",
        "YJ55k-q6phqO",
        "gCFgpxoyphqP",
        "OVtJsKN_phqQ",
        "lssrdh5qphqQ",
        "U2RJ9gkRphqQ",
        "1M8mcRywphqQ",
        "tgIPom80phqQ",
        "JMzcOPDDphqR",
        "x-EpHcCOp1ci",
        "X_VqEhTip1ck",
        "8zGJKyg5p1ck",
        "PVzmfK_Ep1ck",
        "n3dbpmDWp1ck",
        "ylSl6qgtp1ck",
        "ZWILFDl5p1ck",
        "M7G43BXep1ck",
        "Ag9LCva-p1cl",
        "E6MkPsBcp1cl",
        "2cELzS2fp1cl",
        "NC_X3p0fY2L0",
        "UV0SzAkaZNRQ",
        "YPEH6qLeZNRQ",
        "JcMwzZxoAimU",
        "8G2x9gOozGDZ",
        "gCX9965dhzqZ",
        "gIfDvo9L0UH2"
      ],
      "private_outputs": true,
      "provenance": [],
      "include_colab_link": true
    },
    "kernelspec": {
      "display_name": "Python 3",
      "name": "python3"
    },
    "language_info": {
      "codemirror_mode": {
        "name": "ipython",
        "version": 3
      },
      "file_extension": ".py",
      "mimetype": "text/x-python",
      "name": "python",
      "nbconvert_exporter": "python",
      "pygments_lexer": "ipython3",
      "version": "3.12.0"
    }
  },
  "nbformat": 4,
  "nbformat_minor": 0
}